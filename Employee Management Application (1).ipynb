{
 "cells": [
  {
   "cell_type": "markdown",
   "id": "f6735467",
   "metadata": {
    "id": "f6735467"
   },
   "source": [
    "<p>Your task in this assignment is to create an OOP Employee Management System (EMS). Below are some clues of how the program should be built. Use the following code to construct an EMS by making sure all methods and attributes work and do what they're supposed to do.<strong>**NOT ALL ATTRIBUTES AND METHODS ARE INCLUDED IN THE BLUEPRINT**</strong>. You will need to be somewhat creative in order to complete the program. Things to consider:</p>\n",
    "<ul>\n",
    "    <li>Determine if there are any missing attributes or methods that are mising from the current application</li>\n",
    "    <li>Make sure all methods work and are functional</li>\n",
    "    <li>All Managers have the ability to add and remove employees from their employees list.</li>\n",
    "    <li>Use inheritance to complete the program</li>\n",
    "</ul>"
   ]
  },
  {
   "cell_type": "code",
   "execution_count": 80,
   "id": "f3b98b6d",
   "metadata": {
    "id": "f3b98b6d"
   },
   "outputs": [],
   "source": [
    "class Employee:\n",
    "    \n",
    "    all_ = []\n",
    "    \n",
    "    def __init__(self, first_name, last_name, email_address, age):\n",
    "        \n",
    "        self.all_.append(self) # once a new employee is created, you can view your employees with \"Employee.all_\"\n",
    "        self.first_name = first_name\n",
    "        self.last_name = last_name\n",
    "        self.email_address = email_address\n",
    "        self.age = age\n",
    "        \n",
    "    def __repr__(self):\n",
    "        return f'<Employee: {self.first_name}, {self.last_name}, {self.email_address}, {self.age}>'\n",
    "\n",
    "\n",
    "class Manager(Employee):\n",
    "    def __init__(self, first_name, last_name, email_address, age, employees=[]):\n",
    "        super().__init__(first_name, last_name, email_address, age)\n",
    "        self.employees=[] = []\n",
    "        \n",
    "    def add_employee(first_name, last_name, email_address, age, employees=[]):\n",
    "        super().__init__(first_name, last_name, email_address, age)\n",
    "        self.employees.append(self)\n",
    "        \n",
    "    def show_employees(self, first_name, last_name, email_address, age, employees=[]):\n",
    "        super().__init__(first_name, last_name, email_address, age)\n",
    "            \n",
    "    def remove_employee(self, first_name, last_name, email_address, age, employees=[]):\n",
    "        super().__init__(first_name, last_name, email_address, age)\n",
    "    \n",
    "employee1 = Employee(\"Loc\", \"Tran\", \"Loc.Tran21@gmail.com\", 28)\n",
    "employee2 = Employee(\"John\", \"Doe\", \"JohnDoe@yahoo.com\", 30)\n",
    "employee3 = Employee(\"Jane\", \"Doe\", \"JaneDoe@Hotmail.com\", 26)\n",
    "\n"
   ]
  },
  {
   "cell_type": "code",
   "execution_count": 81,
   "id": "33061cac",
   "metadata": {},
   "outputs": [
    {
     "data": {
      "text/plain": [
       "[<Employee: Loc, Tran, Loc.Tran21@gmail.com, 28>,\n",
       " <Employee: John, Doe, JohnDoe@yahoo.com, 30>,\n",
       " <Employee: Jane, Doe, JaneDoe@Hotmail.com, 26>]"
      ]
     },
     "execution_count": 81,
     "metadata": {},
     "output_type": "execute_result"
    }
   ],
   "source": [
    "Employee.all_"
   ]
  },
  {
   "cell_type": "code",
   "execution_count": 82,
   "id": "a9f24725",
   "metadata": {},
   "outputs": [
    {
     "ename": "TypeError",
     "evalue": "super(type, obj): obj must be an instance or subtype of type",
     "output_type": "error",
     "traceback": [
      "\u001b[0;31m---------------------------------------------------------------------------\u001b[0m",
      "\u001b[0;31mTypeError\u001b[0m                                 Traceback (most recent call last)",
      "\u001b[0;32m/var/folders/7v/d10fdf0j7095gxmpp1f4j2zr0000gn/T/ipykernel_11071/3360375262.py\u001b[0m in \u001b[0;36m<module>\u001b[0;34m\u001b[0m\n\u001b[0;32m----> 1\u001b[0;31m \u001b[0mManager\u001b[0m\u001b[0;34m.\u001b[0m\u001b[0madd_employee\u001b[0m\u001b[0;34m(\u001b[0m\u001b[0;34m\"Loc\"\u001b[0m\u001b[0;34m,\u001b[0m \u001b[0;34m\"Tran\"\u001b[0m\u001b[0;34m,\u001b[0m \u001b[0;34m\"Loc.tran21@gmail.com\"\u001b[0m\u001b[0;34m,\u001b[0m \u001b[0;36m28\u001b[0m\u001b[0;34m)\u001b[0m\u001b[0;34m\u001b[0m\u001b[0;34m\u001b[0m\u001b[0m\n\u001b[0m",
      "\u001b[0;32m/var/folders/7v/d10fdf0j7095gxmpp1f4j2zr0000gn/T/ipykernel_11071/1614842819.py\u001b[0m in \u001b[0;36madd_employee\u001b[0;34m(first_name, last_name, email_address, age, employees)\u001b[0m\n\u001b[1;32m     21\u001b[0m \u001b[0;34m\u001b[0m\u001b[0m\n\u001b[1;32m     22\u001b[0m     \u001b[0;32mdef\u001b[0m \u001b[0madd_employee\u001b[0m\u001b[0;34m(\u001b[0m\u001b[0mfirst_name\u001b[0m\u001b[0;34m,\u001b[0m \u001b[0mlast_name\u001b[0m\u001b[0;34m,\u001b[0m \u001b[0memail_address\u001b[0m\u001b[0;34m,\u001b[0m \u001b[0mage\u001b[0m\u001b[0;34m,\u001b[0m \u001b[0memployees\u001b[0m\u001b[0;34m=\u001b[0m\u001b[0;34m[\u001b[0m\u001b[0;34m]\u001b[0m\u001b[0;34m)\u001b[0m\u001b[0;34m:\u001b[0m\u001b[0;34m\u001b[0m\u001b[0;34m\u001b[0m\u001b[0m\n\u001b[0;32m---> 23\u001b[0;31m         \u001b[0msuper\u001b[0m\u001b[0;34m(\u001b[0m\u001b[0;34m)\u001b[0m\u001b[0;34m.\u001b[0m\u001b[0m__init__\u001b[0m\u001b[0;34m(\u001b[0m\u001b[0mfirst_name\u001b[0m\u001b[0;34m,\u001b[0m \u001b[0mlast_name\u001b[0m\u001b[0;34m,\u001b[0m \u001b[0memail_address\u001b[0m\u001b[0;34m,\u001b[0m \u001b[0mage\u001b[0m\u001b[0;34m)\u001b[0m\u001b[0;34m\u001b[0m\u001b[0;34m\u001b[0m\u001b[0m\n\u001b[0m\u001b[1;32m     24\u001b[0m         \u001b[0mself\u001b[0m\u001b[0;34m.\u001b[0m\u001b[0memployees\u001b[0m\u001b[0;34m.\u001b[0m\u001b[0mappend\u001b[0m\u001b[0;34m(\u001b[0m\u001b[0mself\u001b[0m\u001b[0;34m)\u001b[0m\u001b[0;34m\u001b[0m\u001b[0;34m\u001b[0m\u001b[0m\n\u001b[1;32m     25\u001b[0m \u001b[0;34m\u001b[0m\u001b[0m\n",
      "\u001b[0;31mTypeError\u001b[0m: super(type, obj): obj must be an instance or subtype of type"
     ]
    }
   ],
   "source": [
    "Manager.add_employee(\"Loc\", \"Tran\", \"Loc.tran21@gmail.com\", 28)"
   ]
  }
 ],
 "metadata": {
  "colab": {
   "name": "Employee Management Application (1).ipynb",
   "provenance": []
  },
  "kernelspec": {
   "display_name": "Python 3 (ipykernel)",
   "language": "python",
   "name": "python3"
  },
  "language_info": {
   "codemirror_mode": {
    "name": "ipython",
    "version": 3
   },
   "file_extension": ".py",
   "mimetype": "text/x-python",
   "name": "python",
   "nbconvert_exporter": "python",
   "pygments_lexer": "ipython3",
   "version": "3.9.7"
  }
 },
 "nbformat": 4,
 "nbformat_minor": 5
}
